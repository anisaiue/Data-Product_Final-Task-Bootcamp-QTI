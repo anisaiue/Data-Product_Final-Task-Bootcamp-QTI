{
 "metadata": {
  "language_info": {
   "codemirror_mode": {
    "name": "ipython",
    "version": 3
   },
   "file_extension": ".py",
   "mimetype": "text/x-python",
   "name": "python",
   "nbconvert_exporter": "python",
   "pygments_lexer": "ipython3",
   "version": "3.8.3-final"
  },
  "orig_nbformat": 2,
  "kernelspec": {
   "name": "python3",
   "display_name": "Python 3",
   "language": "python"
  }
 },
 "nbformat": 4,
 "nbformat_minor": 2,
 "cells": [
  {
   "cell_type": "code",
   "execution_count": 1,
   "metadata": {},
   "outputs": [],
   "source": [
    "import pandas as pd\n",
    "import numpy as np\n"
   ]
  },
  {
   "cell_type": "code",
   "execution_count": 7,
   "metadata": {},
   "outputs": [
    {
     "output_type": "execute_result",
     "data": {
      "text/plain": [
       "   id_review             name  \\\n",
       "0        0.0  Supardan bekasi   \n",
       "1        1.0    saipul saipul   \n",
       "2        2.0      Faizin Arif   \n",
       "3        3.0          robby w   \n",
       "4        4.0     sofa rohmani   \n",
       "\n",
       "                                              review  rate  \n",
       "0  Beli 3 buah, semua tidak ada yang keluar strum...     1  \n",
       "1                 Barang busuk dijual...ga berfungsi     1  \n",
       "2  Saya turunin ratingnya, karena setelah saya co...     1  \n",
       "3                    kondisi mati gak bs utk cas dsb     1  \n",
       "4                                        respon lama     1  "
      ],
      "text/html": "<div>\n<style scoped>\n    .dataframe tbody tr th:only-of-type {\n        vertical-align: middle;\n    }\n\n    .dataframe tbody tr th {\n        vertical-align: top;\n    }\n\n    .dataframe thead th {\n        text-align: right;\n    }\n</style>\n<table border=\"1\" class=\"dataframe\">\n  <thead>\n    <tr style=\"text-align: right;\">\n      <th></th>\n      <th>id_review</th>\n      <th>name</th>\n      <th>review</th>\n      <th>rate</th>\n    </tr>\n  </thead>\n  <tbody>\n    <tr>\n      <th>0</th>\n      <td>0.0</td>\n      <td>Supardan bekasi</td>\n      <td>Beli 3 buah, semua tidak ada yang keluar strum...</td>\n      <td>1</td>\n    </tr>\n    <tr>\n      <th>1</th>\n      <td>1.0</td>\n      <td>saipul saipul</td>\n      <td>Barang busuk dijual...ga berfungsi</td>\n      <td>1</td>\n    </tr>\n    <tr>\n      <th>2</th>\n      <td>2.0</td>\n      <td>Faizin Arif</td>\n      <td>Saya turunin ratingnya, karena setelah saya co...</td>\n      <td>1</td>\n    </tr>\n    <tr>\n      <th>3</th>\n      <td>3.0</td>\n      <td>robby w</td>\n      <td>kondisi mati gak bs utk cas dsb</td>\n      <td>1</td>\n    </tr>\n    <tr>\n      <th>4</th>\n      <td>4.0</td>\n      <td>sofa rohmani</td>\n      <td>respon lama</td>\n      <td>1</td>\n    </tr>\n  </tbody>\n</table>\n</div>"
     },
     "metadata": {},
     "execution_count": 7
    }
   ],
   "source": [
    "df=pd.read_csv(\"review_crawling.csv\")\n",
    "df.head()"
   ]
  },
  {
   "cell_type": "code",
   "execution_count": 4,
   "metadata": {},
   "outputs": [
    {
     "output_type": "execute_result",
     "data": {
      "text/plain": [
       "0      1\n",
       "1      1\n",
       "2      1\n",
       "3      1\n",
       "4      1\n",
       "      ..\n",
       "237    5\n",
       "238    5\n",
       "239    5\n",
       "240    5\n",
       "241    5\n",
       "Name: rate, Length: 242, dtype: int32"
      ]
     },
     "metadata": {},
     "execution_count": 4
    }
   ],
   "source": [
    "df.rate.astype(int)"
   ]
  },
  {
   "cell_type": "code",
   "execution_count": 5,
   "metadata": {},
   "outputs": [
    {
     "output_type": "execute_result",
     "data": {
      "text/plain": [
       "id_review    float64\n",
       "name          object\n",
       "review        object\n",
       "rate           int64\n",
       "dtype: object"
      ]
     },
     "metadata": {},
     "execution_count": 5
    }
   ],
   "source": [
    "df.dtypes"
   ]
  },
  {
   "cell_type": "code",
   "execution_count": 6,
   "metadata": {},
   "outputs": [
    {
     "output_type": "execute_result",
     "data": {
      "text/plain": [
       "   id_review             name  \\\n",
       "0        0.0  Supardan bekasi   \n",
       "1        1.0    saipul saipul   \n",
       "2        2.0      Faizin Arif   \n",
       "3        3.0          robby w   \n",
       "4        4.0     sofa rohmani   \n",
       "\n",
       "                                              review  target  \n",
       "0  Beli 3 buah, semua tidak ada yang keluar strum...       0  \n",
       "1                 Barang busuk dijual...ga berfungsi       0  \n",
       "2  Saya turunin ratingnya, karena setelah saya co...       0  \n",
       "3                    kondisi mati gak bs utk cas dsb       0  \n",
       "4                                        respon lama       0  "
      ],
      "text/html": "<div>\n<style scoped>\n    .dataframe tbody tr th:only-of-type {\n        vertical-align: middle;\n    }\n\n    .dataframe tbody tr th {\n        vertical-align: top;\n    }\n\n    .dataframe thead th {\n        text-align: right;\n    }\n</style>\n<table border=\"1\" class=\"dataframe\">\n  <thead>\n    <tr style=\"text-align: right;\">\n      <th></th>\n      <th>id_review</th>\n      <th>name</th>\n      <th>review</th>\n      <th>target</th>\n    </tr>\n  </thead>\n  <tbody>\n    <tr>\n      <th>0</th>\n      <td>0.0</td>\n      <td>Supardan bekasi</td>\n      <td>Beli 3 buah, semua tidak ada yang keluar strum...</td>\n      <td>0</td>\n    </tr>\n    <tr>\n      <th>1</th>\n      <td>1.0</td>\n      <td>saipul saipul</td>\n      <td>Barang busuk dijual...ga berfungsi</td>\n      <td>0</td>\n    </tr>\n    <tr>\n      <th>2</th>\n      <td>2.0</td>\n      <td>Faizin Arif</td>\n      <td>Saya turunin ratingnya, karena setelah saya co...</td>\n      <td>0</td>\n    </tr>\n    <tr>\n      <th>3</th>\n      <td>3.0</td>\n      <td>robby w</td>\n      <td>kondisi mati gak bs utk cas dsb</td>\n      <td>0</td>\n    </tr>\n    <tr>\n      <th>4</th>\n      <td>4.0</td>\n      <td>sofa rohmani</td>\n      <td>respon lama</td>\n      <td>0</td>\n    </tr>\n  </tbody>\n</table>\n</div>"
     },
     "metadata": {},
     "execution_count": 6
    }
   ],
   "source": [
    "target=[]\n",
    "for index, row in df.iterrows():\n",
    "    if row['rate']>=4:\n",
    "        target.append(1)\n",
    "    else:\n",
    "        target.append(0)\n",
    "\n",
    "df['target']=target\n",
    "df.drop(columns=['rate'], inplace=True)\n",
    "df.head()"
   ]
  },
  {
   "cell_type": "code",
   "execution_count": null,
   "metadata": {},
   "outputs": [],
   "source": []
  }
 ]
}